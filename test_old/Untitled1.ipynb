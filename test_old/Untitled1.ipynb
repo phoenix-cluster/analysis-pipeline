{
 "cells": [
  {
   "cell_type": "code",
   "execution_count": 5,
   "metadata": {},
   "outputs": [
    {
     "name": "stdout",
     "output_type": "stream",
     "text": [
      "start to read identification from csv\n",
      "start to read identification from csv\n",
      "start to import identification to phoenix db\n"
     ]
    }
   ],
   "source": [
    "#!/usr/bin/python3\n",
    "\"\"\"\n",
    "This program match a project's spectra to the PRIDE Cluster spectral library, to detect the\n",
    "(low confident) doubted PSMs,\n",
    "(high confident) approved PSMs,\n",
    "new PSMs,\n",
    "and recommend better PSMs for some doubted PSMs.\n",
    "Usage:\n",
    "enhancer_analyze.py --project <projectId>\n",
    "[--host <host_name>]\n",
    "[--date <date>]\n",
    "[(--loadfile | --loaddb)]\n",
    " enhancer_analyze.py (--help | --version)\n",
    "\n",
    "Options:\n",
    "-p, --project=<projectId>            project to be ananlyzed, the files should be putted in this directory\n",
    "--host=<host_name>                   The host phoenix  to store the data and analyze result\n",
    "--date =<date>                       The date to specify the tables\n",
    "--loadfile                           If set, load spectra lib search result from pep.xml file.\n",
    "--loaddb                             If set, load spectra lib search result from phoenix db.\n",
    "-h, --help                           Print this help message.\n",
    "-v, --version                        Print the current version.\n",
    "\"\"\"\n",
    "\n",
    "\n",
    "import sys, os\n",
    "import logging\n",
    "import time,csv\n",
    "from docopt import docopt\n",
    "file_dir = \"/home/ubuntu/mingze/tools\"\n",
    "sys.path.append(file_dir)\n",
    "import retrieve_splib_result as retriever\n",
    "import phoenix_import_util as phoenix\n",
    "import statistics_util as stat_util\n",
    "import build_cluster_csv as cluster_csv\n",
    "import psm_util\n",
    "\n",
    "\n",
    "\n",
    "\n",
    "\n",
    "    #arguments = docopt(__doc__, version='cluster_phoenix_importer 1.0 BETA')\n",
    "\n",
    "project_id = 'PXD000222'\n",
    "host = \"localhost\"\n",
    "\n",
    "work_path = '/home/ubuntu/mingze/spec_lib_searching/phospho/'\n",
    "date = ''\n",
    "lib_search_results = None\n",
    "input_path = work_path + project_id + '/'\n",
    "sr_csv_file = work_path + project_id + '/' + project_id + 'lib_search_result.csv'\n",
    "try:\n",
    "    lib_search_results = retriever.retrive_search_result(project_id, input_path, sr_csv_file) #retrieve the library search results and export them to file/phoenix db\n",
    "except Exception as err:\n",
    "    print(\"error in retriving spectraST search result file %s\"%(err))\n",
    "\n",
    "    # export search result to phoenix_db by building the whole big table\n",
    "\n",
    "psm_file = work_path + project_id + \"/\" + project_id + \"_psm.csv\"\n",
    "print(\"start to read identification from csv\")\n",
    "identified_spectra  = psm_util.read_identification_from_csv(psm_file)\n",
    "if identified_spectra == None:\n",
    "    identified_spectra = phoenix.retrieve_identification_from_phoenix(project_id, host, None)\n",
    "else:\n",
    "    print(\"start to import identification to phoenix db\")\n",
    "    psm_util.insert_psms_to_phoenix_from_csv(project_id, identified_spectra, host)\n",
    "\n",
    "cluster_data = cluster_csv.read_csv('clusters_min5.csv')\n",
    "if cluster_data == None:\n",
    "    cluster_data = phoenix.get_cluster_data(lib_search_results, host)\n",
    "\n",
    "spec_match_detail_file = work_path + project_id + \"/\" + project_id + \"_spec_match_details.csv\"\n",
    "matched_spec_details_dict = psm_util.read_matched_spec_from_csv(spec_match_detail_file)\n",
    "if matched_spec_details_dict == None:\n",
    "    matched_spec_details = psm_util.build_matched_spec(lib_search_results, identified_spectra, cluster_data)\n",
    "    psm_util.write_matched_spec_to_csv(matched_spec_details, spec_match_detail_file)\n",
    "    phoenix.upsert_matched_spec_table(project_id, matched_spec_details, host, date)\n",
    "    matched_spec_details_dict = psm_util.read_matched_spec_from_csv(spec_match_detail_file)\n",
    "\n",
    "phoenix.create_project_ana_record_table(host)\n",
    "thresholds = stat_util.default_thresholds\n",
    " "
   ]
  },
  {
   "cell_type": "code",
   "execution_count": 6,
   "metadata": {},
   "outputs": [
    {
     "data": {
      "text/plain": [
       "2898292"
      ]
     },
     "execution_count": 6,
     "metadata": {},
     "output_type": "execute_result"
    }
   ],
   "source": [
    "len( matched_spec_details_dict)"
   ]
  },
  {
   "cell_type": "code",
   "execution_count": 7,
   "metadata": {},
   "outputs": [
    {
     "data": {
      "text/plain": [
       "433401"
      ]
     },
     "execution_count": 7,
     "metadata": {},
     "output_type": "execute_result"
    }
   ],
   "source": [
    "len(identified_spectra)"
   ]
  },
  {
   "cell_type": "code",
   "execution_count": 9,
   "metadata": {},
   "outputs": [
    {
     "name": "stdout",
     "output_type": "stream",
     "text": [
      "we have 2898292 matched spec\n",
      "2615230 spectra have be filtered by thresholds\n",
      "283062 spectra have be retailed\n"
     ]
    }
   ],
   "source": [
    "spectra_matched_to_cluster = dict()\n",
    "unid_spec_matched_to_cluster = dict()  # cluster_id as the key\n",
    "removed_spec_no = 0\n",
    "retail_spec_no = 0\n",
    "psm_dict = matched_spec_details_dict\n",
    "\n",
    "print(\"we have %d matched spec\"%(len(psm_dict)))\n",
    "for spec_title in psm_dict.keys():\n",
    "    psm = psm_dict.get(spec_title)\n",
    "    f_val = psm.get('f_val', 0)\n",
    "    cluster_ratio = float(psm.get('cluster_ratio',0.0))\n",
    "    cluster_size = int(psm.get('cluster_size',0))\n",
    "    pre_seq = psm.get('pre_seq', '')\n",
    "    conf_score = float(psm.get('conf_sc'))\n",
    "    recomm_seq_sc = float(psm.get('recomm_seq_sc'))\n",
    "    cluster_id = psm.get('cluster_id')\n",
    "\n",
    "    if f_val < thresholds.get('spectrast_fval_threshold') or \\\n",
    "       cluster_ratio < thresholds.get('cluster_ratio_threshold') or \\\n",
    "       cluster_size < thresholds.get('cluster_size_threshold') :\n",
    "        removed_spec_no += 1\n",
    "        continue\n",
    "    if conf_score and conf_score > 0 \\\n",
    "        and conf_score < thresholds.get('conf_sc_threshold'):  # For pre PSMs with postive confidence score, ignore the PSMs below threshold\n",
    "        removed_spec_no += 1\n",
    "        continue\n",
    "    if conf_score and conf_score < 0 and recomm_seq_sc \\\n",
    "        and recomm_seq_sc < thresholds.get('conf_sc_threshold'):  # For pre PSMs with negtive confidence score or unidentified (-1 for conf_sc), ignore the PSMs whose recommend seq's score is below threshold\n",
    "        removed_spec_no += 1\n",
    "        continue\n",
    "    if pre_seq == None or pre_seq == '':\n",
    "        if recomm_seq_sc < thresholds.get('conf_sc_threshold'): # For the unidientfied spec, ignore the recommend New PSMs whose recommend seq's score is below threshold\n",
    "            removed_spec_no += 1\n",
    "            continue\n",
    "    matched_spectra = spectra_matched_to_cluster.get(cluster_id, [])\n",
    "    matched_spectra.append(spec_title)\n",
    "    spectra_matched_to_cluster[cluster_id] = matched_spectra\n",
    "    retail_spec_no += 1\n",
    "print(\"%d spectra have be filtered by thresholds\" %(removed_spec_no))\n",
    "print(\"%d spectra have be retailed\" %(retail_spec_no))"
   ]
  },
  {
   "cell_type": "code",
   "execution_count": 12,
   "metadata": {},
   "outputs": [
    {
     "name": "stdout",
     "output_type": "stream",
     "text": [
      "217651 id, 65411 unid\n",
      "283062\n"
     ]
    }
   ],
   "source": [
    "t_spectra = 0\n",
    "n_id = 0\n",
    "n_unid = 0\n",
    "for cluster_id in spectra_matched_to_cluster.keys():\n",
    "    matched_spectra = spectra_matched_to_cluster.get(cluster_id, [])\n",
    "    t_spectra += len(matched_spectra)\n",
    "    matched_peptides = dict()\n",
    "    for matched_spec in matched_spectra:\n",
    "        psm = psm_dict.get(matched_spec, None)\n",
    "        pre_seq = psm.get('pre_seq')\n",
    "        pre_mods = psm.get('pre_mods', None)\n",
    "        if pre_seq:\n",
    "            n_id += 1\n",
    "            pep_seq_mods_str = pre_seq\n",
    "            if pre_mods != None:\n",
    "                pep_seq_mods_str += \"||\" + pre_mods\n",
    "            pep_spectra = matched_peptides.get(pep_seq_mods_str, [])\n",
    "            pep_spectra.append(matched_spec)\n",
    "            matched_peptides[pep_seq_mods_str] = pep_spectra\n",
    "        else:\n",
    "            n_unid += 1\n",
    "            matched_unid_spec = unid_spec_matched_to_cluster.get(cluster_id, [])\n",
    "            matched_unid_spec.append(matched_spec)\n",
    "            unid_spec_matched_to_cluster[cluster_id] = matched_unid_spec\n",
    "print(\"%d id, %d unid\"%(n_id, n_unid))\n",
    "    \n",
    "print(t_spectra)"
   ]
  }
 ],
 "metadata": {
  "kernelspec": {
   "display_name": "Python 3",
   "language": "python",
   "name": "python3"
  },
  "language_info": {
   "codemirror_mode": {
    "name": "ipython",
    "version": 3
   },
   "file_extension": ".py",
   "mimetype": "text/x-python",
   "name": "python",
   "nbconvert_exporter": "python",
   "pygments_lexer": "ipython3",
   "version": "3.4.3"
  }
 },
 "nbformat": 4,
 "nbformat_minor": 2
}
