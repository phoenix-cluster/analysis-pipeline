{
 "cells": [
  {
   "cell_type": "code",
   "execution_count": 2,
   "metadata": {
    "collapsed": true
   },
   "outputs": [
    {
     "name": "stdout",
     "output_type": "stream",
     "text": [
      "1\n"
     ]
    }
   ],
   "source": [
    "print(\"1\") "
   ]
  },
  {
   "cell_type": "code",
   "execution_count": 7,
   "metadata": {
    "collapsed": false
   },
   "outputs": [
    {
     "data": {
      "text/plain": [
       "'/home/ubuntu'"
      ]
     },
     "execution_count": 7,
     "metadata": {},
     "output_type": "execute_result"
    }
   ],
   "source": [
    "import os\n",
    "os.getcwd()"
   ]
  },
  {
   "cell_type": "code",
   "execution_count": 15,
   "metadata": {
    "collapsed": true
   },
   "outputs": [
    {
     "name": "stdout",
     "output_type": "stream",
     "text": [
      "['<?xml version=\"1.0\"?>\\n', '<!--\\n', '  Licensed under the Apache License, Version 2.0 (the \"License\");\\n', '  you may not use this file except in compliance with the License.\\n', '  You may obtain a copy of the License at\\n', '\\n', '    http://www.apache.org/licenses/LICENSE-2.0\\n', '\\n', '  Unless required by applicable law or agreed to in writing, software\\n', '  distributed under the License is distributed on an \"AS IS\" BASIS,\\n', '  WITHOUT WARRANTIES OR CONDITIONS OF ANY KIND, either express or implied.\\n', '  See the License for the specific language governing permissions and\\n', '  limitations under the License. See accompanying LICENSE file.\\n', '-->\\n', '<configuration>\\n', '\\n', '<!-- Site specific YARN configuration properties -->\\n', '  <property>\\n', '     <name>yarn.resourcemanager.hostname</name>\\n', '     <value>namenode</value>\\n', '  </property>\\n', '\\n', '  <property>\\n', '     <name>yarn.nodemanager.local.dirs</name>\\n', '     <value>file:/usr/local/hadoop/nm-local-dir</value>\\n', '  </property>\\n', '\\n', '  <property>\\n', '     <name>yarn.nodemanager.aux-services</name>\\n', '     <value>mapreduce_shuffle</value>\\n', '  </property>\\n', '\\n', '  <property>\\n', '     <name>yarn.nodemanager.vmem-check-enabled</name>\\n', '     <value>false</value>\\n', '     <description>Whether virtual memory limits will be enforced for containers</description>\\n', '  </property>\\n', '\\n', '  <property>\\n', '     <name>yarn.nodemanager.vmem-pmem-ratio</name>\\n', '     <value>4</value>\\n', '     <description>Ratio between virtual memory to physical memory when setting memory limits for containers</description>\\n', '  </property>\\n', '\\n', '  <property>\\n', '     <name>yarn.nodemanager.resource.memory-mb</name>\\n', '     <value>51200</value>\\n', '  </property>\\n', '\\n', '  <property>\\n', '     <name>yarn.nodemanager.resource.cpu-vcores</name>\\n', '     <value>24</value>\\n', '  </property>\\n', '\\n', '  <property>\\n', '     <name>yarn.log-aggregation-enable</name>\\n', '     <value>true</value>\\n', '  </property>\\n', '\\n', '</configuration>\\n']\n"
     ]
    }
   ],
   "source": [
    "with open(\"yarn-site.xml\") as of:\n",
    "    lines = of.readlines()\n",
    "print(lines)\n",
    "    "
   ]
  }
 ],
 "metadata": {
  "kernelspec": {
   "display_name": "Python 2",
   "language": "python",
   "name": "python2"
  },
  "language_info": {
   "codemirror_mode": {
    "name": "ipython",
    "version": 2
   },
   "file_extension": ".py",
   "mimetype": "text/x-python",
   "name": "python",
   "nbconvert_exporter": "python",
   "pygments_lexer": "ipython2",
   "version": "2.7.6"
  }
 },
 "nbformat": 4,
 "nbformat_minor": 0
}
