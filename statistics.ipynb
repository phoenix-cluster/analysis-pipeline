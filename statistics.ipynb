{
 "cells": [
  {
   "cell_type": "code",
   "execution_count": 139,
   "metadata": {
    "collapsed": true
   },
   "outputs": [],
   "source": [
    "\n",
    "import phoenixdb\n",
    "\n",
    "\"\"\"\n",
    "Get connection \n",
    "\"\"\"\n",
    "def get_conn(host):\n",
    "    database_url = 'http://' + host + ':8765/'\n",
    "    conn = phoenixdb.connect(database_url, autocommit=True)\n",
    "    return conn\n"
   ]
  },
  {
   "cell_type": "code",
   "execution_count": 140,
   "metadata": {
    "collapsed": true
   },
   "outputs": [],
   "source": [
    "def execute_sql(sql_str):\n",
    "    cursor.execute(sql_str)\n",
    "    results = cursor.fetchall()\n",
    "    return results\n",
    "    "
   ]
  },
  {
   "cell_type": "code",
   "execution_count": 141,
   "metadata": {},
   "outputs": [
    {
     "name": "stdout",
     "output_type": "stream",
     "text": [
      "{'PXD000222': {'conf_sc_threshold': 0.10000000149011612, 'cluster_ratio_threshold': 0.5, 'prepsm_not_matched_no': 214150, 'prepsm_high_conf_no': 213346, 'cluster_size_threshold': 10, 'project_id': 'PXD000222', 'prepsm_low_conf_no': 3804, 'new_psm_no': 65411, 'prepsm_no': 433401, 'matched_spec_no': 287350, 'better_psm_no': 3804, 'spectrast_fval_threshold': 0.5, 'matched_id_spec_no': 219251}, 'PXD002057': {'conf_sc_threshold': 0.10000000149011612, 'cluster_ratio_threshold': 0.5, 'prepsm_not_matched_no': 5919, 'prepsm_high_conf_no': 2486, 'cluster_size_threshold': 10, 'project_id': 'PXD002057', 'prepsm_low_conf_no': 15, 'new_psm_no': 2650, 'prepsm_no': 8523, 'matched_spec_no': 5677, 'better_psm_no': 15, 'spectrast_fval_threshold': 0.5, 'matched_id_spec_no': 2604}, 'PXD000119': {'conf_sc_threshold': 0.10000000149011612, 'cluster_ratio_threshold': 0.5, 'prepsm_not_matched_no': 1284, 'prepsm_high_conf_no': 16, 'cluster_size_threshold': 10, 'project_id': 'PXD000119', 'prepsm_low_conf_no': 1, 'new_psm_no': 15, 'prepsm_no': 1306, 'matched_spec_no': 44, 'better_psm_no': 1, 'spectrast_fval_threshold': 0.5, 'matched_id_spec_no': 22}, 'PXD000437': {'conf_sc_threshold': 0.10000000149011612, 'cluster_ratio_threshold': 0.5, 'prepsm_not_matched_no': 127746, 'prepsm_high_conf_no': 0, 'cluster_size_threshold': 10, 'project_id': 'PXD000437', 'prepsm_low_conf_no': 0, 'new_psm_no': 0, 'prepsm_no': 127746, 'matched_spec_no': 0, 'better_psm_no': 0, 'spectrast_fval_threshold': 0.5, 'matched_id_spec_no': 0}, 'PXD000878': {'conf_sc_threshold': 0.10000000149011612, 'cluster_ratio_threshold': 0.5, 'prepsm_not_matched_no': 71191, 'prepsm_high_conf_no': 13547, 'cluster_size_threshold': 10, 'project_id': 'PXD000878', 'prepsm_low_conf_no': 226, 'new_psm_no': 61, 'prepsm_no': 85462, 'matched_spec_no': 14350, 'better_psm_no': 226, 'spectrast_fval_threshold': 0.5, 'matched_id_spec_no': 14271}, 'PXD000375': {'conf_sc_threshold': 0.10000000149011612, 'cluster_ratio_threshold': 0.5, 'prepsm_not_matched_no': 22301, 'prepsm_high_conf_no': 11494, 'cluster_size_threshold': 10, 'project_id': 'PXD000375', 'prepsm_low_conf_no': 227, 'new_psm_no': 2571, 'prepsm_no': 34253, 'matched_spec_no': 14777, 'better_psm_no': 227, 'spectrast_fval_threshold': 0.5, 'matched_id_spec_no': 11952}, 'PXD002255': {'conf_sc_threshold': 0.10000000149011612, 'cluster_ratio_threshold': 0.5, 'prepsm_not_matched_no': 647922, 'prepsm_high_conf_no': 358836, 'cluster_size_threshold': 10, 'project_id': 'PXD002255', 'prepsm_low_conf_no': 5486, 'new_psm_no': 193565, 'prepsm_no': 1035297, 'matched_spec_no': 698563, 'better_psm_no': 5486, 'spectrast_fval_threshold': 0.5, 'matched_id_spec_no': 387375}, 'PXD001492': {'conf_sc_threshold': 0.10000000149011612, 'cluster_ratio_threshold': 0.5, 'prepsm_not_matched_no': 17823, 'prepsm_high_conf_no': 34227, 'cluster_size_threshold': 10, 'project_id': 'PXD001492', 'prepsm_low_conf_no': 777, 'new_psm_no': 6770, 'prepsm_no': 53437, 'matched_spec_no': 42895, 'better_psm_no': 777, 'spectrast_fval_threshold': 0.5, 'matched_id_spec_no': 35614}, 'PXD001541': {'conf_sc_threshold': 0.10000000149011612, 'cluster_ratio_threshold': 0.5, 'prepsm_not_matched_no': 1242, 'prepsm_high_conf_no': 2163, 'cluster_size_threshold': 10, 'project_id': 'PXD001541', 'prepsm_low_conf_no': 40, 'new_psm_no': 2545, 'prepsm_no': 3447, 'matched_spec_no': 4831, 'better_psm_no': 40, 'spectrast_fval_threshold': 0.5, 'matched_id_spec_no': 2205}, 'PXD000529': {'conf_sc_threshold': 0.10000000149011612, 'cluster_ratio_threshold': 0.5, 'prepsm_not_matched_no': 233064, 'prepsm_high_conf_no': 186447, 'cluster_size_threshold': 10, 'project_id': 'PXD000529', 'prepsm_low_conf_no': 3011, 'new_psm_no': 36028, 'prepsm_no': 429336, 'matched_spec_no': 238908, 'better_psm_no': 3011, 'spectrast_fval_threshold': 0.5, 'matched_id_spec_no': 196272}, 'PXD002232': {'conf_sc_threshold': 0.10000000149011612, 'cluster_ratio_threshold': 0.5, 'prepsm_not_matched_no': 28700, 'prepsm_high_conf_no': 3480, 'cluster_size_threshold': 10, 'project_id': 'PXD002232', 'prepsm_low_conf_no': 117, 'new_psm_no': 2171, 'prepsm_no': 32920, 'matched_spec_no': 7236, 'better_psm_no': 117, 'spectrast_fval_threshold': 0.5, 'matched_id_spec_no': 4220}, 'PXD003806': {'conf_sc_threshold': 0.10000000149011612, 'cluster_ratio_threshold': 0.5, 'prepsm_not_matched_no': 206, 'prepsm_high_conf_no': 5, 'cluster_size_threshold': 10, 'project_id': 'PXD003806', 'prepsm_low_conf_no': 0, 'new_psm_no': 96, 'prepsm_no': 215, 'matched_spec_no': 136, 'better_psm_no': 0, 'spectrast_fval_threshold': 0.5, 'matched_id_spec_no': 9}, 'PXD000197': {'conf_sc_threshold': 0.10000000149011612, 'cluster_ratio_threshold': 0.5, 'prepsm_not_matched_no': 172511, 'prepsm_high_conf_no': 5862, 'cluster_size_threshold': 10, 'project_id': 'PXD000197', 'prepsm_low_conf_no': 1559, 'new_psm_no': 36, 'prepsm_no': 204362, 'matched_spec_no': 31925, 'better_psm_no': 1559, 'spectrast_fval_threshold': 0.5, 'matched_id_spec_no': 31851}, 'PXD000053': {'conf_sc_threshold': 0.10000000149011612, 'cluster_ratio_threshold': 0.5, 'prepsm_not_matched_no': 5673, 'prepsm_high_conf_no': 2127, 'cluster_size_threshold': 10, 'project_id': 'PXD000053', 'prepsm_low_conf_no': 7, 'new_psm_no': 788, 'prepsm_no': 7834, 'matched_spec_no': 3476, 'better_psm_no': 7, 'spectrast_fval_threshold': 0.5, 'matched_id_spec_no': 2161}, 'PXD003660': {'conf_sc_threshold': 0.10000000149011612, 'cluster_ratio_threshold': 0.5, 'prepsm_not_matched_no': 26808, 'prepsm_high_conf_no': 895, 'cluster_size_threshold': 10, 'project_id': 'PXD003660', 'prepsm_low_conf_no': 37, 'new_psm_no': 1965, 'prepsm_no': 27786, 'matched_spec_no': 5251, 'better_psm_no': 37, 'spectrast_fval_threshold': 0.5, 'matched_id_spec_no': 978}, 'PXD000680': {'conf_sc_threshold': 0.10000000149011612, 'cluster_ratio_threshold': 0.5, 'prepsm_not_matched_no': 166041, 'prepsm_high_conf_no': 63855, 'cluster_size_threshold': 10, 'project_id': 'PXD000680', 'prepsm_low_conf_no': 80, 'new_psm_no': 9, 'prepsm_no': 231587, 'matched_spec_no': 65556, 'better_psm_no': 80, 'spectrast_fval_threshold': 0.5, 'matched_id_spec_no': 65546}, 'PXD000217': {'conf_sc_threshold': 0.10000000149011612, 'cluster_ratio_threshold': 0.5, 'prepsm_not_matched_no': 22719, 'prepsm_high_conf_no': 9185, 'cluster_size_threshold': 10, 'project_id': 'PXD000217', 'prepsm_low_conf_no': 444, 'new_psm_no': 9470, 'prepsm_no': 32571, 'matched_spec_no': 20310, 'better_psm_no': 444, 'spectrast_fval_threshold': 0.5, 'matched_id_spec_no': 9852}, 'PXD000535': {'conf_sc_threshold': 0.10000000149011612, 'cluster_ratio_threshold': 0.5, 'prepsm_not_matched_no': 369800, 'prepsm_high_conf_no': 248275, 'cluster_size_threshold': 10, 'project_id': 'PXD000535', 'prepsm_low_conf_no': 2863, 'new_psm_no': 108348, 'prepsm_no': 624209, 'matched_spec_no': 371236, 'better_psm_no': 2863, 'spectrast_fval_threshold': 0.5, 'matched_id_spec_no': 254409}, 'PXD000964': {'conf_sc_threshold': 0.10000000149011612, 'cluster_ratio_threshold': 0.5, 'prepsm_not_matched_no': 1092, 'prepsm_high_conf_no': 562, 'cluster_size_threshold': 10, 'project_id': 'PXD000964', 'prepsm_low_conf_no': 5, 'new_psm_no': 0, 'prepsm_no': 1677, 'matched_spec_no': 585, 'better_psm_no': 5, 'spectrast_fval_threshold': 0.5, 'matched_id_spec_no': 585}, 'PXD001079': {'conf_sc_threshold': 0.10000000149011612, 'cluster_ratio_threshold': 0.5, 'prepsm_not_matched_no': 1849, 'prepsm_high_conf_no': 208, 'cluster_size_threshold': 10, 'project_id': 'PXD001079', 'prepsm_low_conf_no': 0, 'new_psm_no': 163, 'prepsm_no': 2057, 'matched_spec_no': 380, 'better_psm_no': 0, 'spectrast_fval_threshold': 0.5, 'matched_id_spec_no': 208}, 'PXD000011': {'conf_sc_threshold': 0.10000000149011612, 'cluster_ratio_threshold': 0.5, 'prepsm_not_matched_no': 21793, 'prepsm_high_conf_no': 4998, 'cluster_size_threshold': 10, 'project_id': 'PXD000011', 'prepsm_low_conf_no': 35, 'new_psm_no': 1870, 'prepsm_no': 27374, 'matched_spec_no': 9516, 'better_psm_no': 35, 'spectrast_fval_threshold': 0.5, 'matched_id_spec_no': 5581}, 'PXD000450': {'conf_sc_threshold': 0.10000000149011612, 'cluster_ratio_threshold': 0.5, 'prepsm_not_matched_no': 10120, 'prepsm_high_conf_no': 3512, 'cluster_size_threshold': 10, 'project_id': 'PXD000450', 'prepsm_low_conf_no': 15, 'new_psm_no': 700, 'prepsm_no': 13689, 'matched_spec_no': 4452, 'better_psm_no': 15, 'spectrast_fval_threshold': 0.5, 'matched_id_spec_no': 3569}, 'PXD000055': {'conf_sc_threshold': 0.10000000149011612, 'cluster_ratio_threshold': 0.5, 'prepsm_not_matched_no': 17092, 'prepsm_high_conf_no': 2397, 'cluster_size_threshold': 10, 'project_id': 'PXD000055', 'prepsm_low_conf_no': 52, 'new_psm_no': 774, 'prepsm_no': 19566, 'matched_spec_no': 3366, 'better_psm_no': 52, 'spectrast_fval_threshold': 0.5, 'matched_id_spec_no': 2474}, 'PXD001099': {'conf_sc_threshold': 0.10000000149011612, 'cluster_ratio_threshold': 0.5, 'prepsm_not_matched_no': 5539, 'prepsm_high_conf_no': 3180, 'cluster_size_threshold': 10, 'project_id': 'PXD001099', 'prepsm_low_conf_no': 0, 'new_psm_no': 0, 'prepsm_no': 8782, 'matched_spec_no': 3243, 'better_psm_no': 0, 'spectrast_fval_threshold': 0.5, 'matched_id_spec_no': 3243}, 'PXD000378': {'conf_sc_threshold': 0.10000000149011612, 'cluster_ratio_threshold': 0.5, 'prepsm_not_matched_no': 1230, 'prepsm_high_conf_no': 339, 'cluster_size_threshold': 10, 'project_id': 'PXD000378', 'prepsm_low_conf_no': 4, 'new_psm_no': 90, 'prepsm_no': 1575, 'matched_spec_no': 447, 'better_psm_no': 4, 'spectrast_fval_threshold': 0.5, 'matched_id_spec_no': 345}, 'PXD001134': {'conf_sc_threshold': 0.10000000149011612, 'cluster_ratio_threshold': 0.5, 'prepsm_not_matched_no': 116184, 'prepsm_high_conf_no': 38409, 'cluster_size_threshold': 10, 'project_id': 'PXD001134', 'prepsm_low_conf_no': 370, 'new_psm_no': 9989, 'prepsm_no': 158175, 'matched_spec_no': 56711, 'better_psm_no': 370, 'spectrast_fval_threshold': 0.5, 'matched_id_spec_no': 41991}, 'PXD001464': {'conf_sc_threshold': 0.10000000149011612, 'cluster_ratio_threshold': 0.5, 'prepsm_not_matched_no': 101880, 'prepsm_high_conf_no': 45246, 'cluster_size_threshold': 10, 'project_id': 'PXD001464', 'prepsm_low_conf_no': 307, 'new_psm_no': 12824, 'prepsm_no': 149101, 'matched_spec_no': 62192, 'better_psm_no': 307, 'spectrast_fval_threshold': 0.5, 'matched_id_spec_no': 47221}, 'PXD001269': {'conf_sc_threshold': 0.10000000149011612, 'cluster_ratio_threshold': 0.5, 'prepsm_not_matched_no': 18956, 'prepsm_high_conf_no': 1947, 'cluster_size_threshold': 10, 'project_id': 'PXD001269', 'prepsm_low_conf_no': 9, 'new_psm_no': 3455, 'prepsm_no': 20961, 'matched_spec_no': 6291, 'better_psm_no': 9, 'spectrast_fval_threshold': 0.5, 'matched_id_spec_no': 2005}, 'PXD000218': {'conf_sc_threshold': 0.10000000149011612, 'cluster_ratio_threshold': 0.5, 'prepsm_not_matched_no': 77073, 'prepsm_high_conf_no': 47437, 'cluster_size_threshold': 10, 'project_id': 'PXD000218', 'prepsm_low_conf_no': 446, 'new_psm_no': 29309, 'prepsm_no': 125352, 'matched_spec_no': 79451, 'better_psm_no': 446, 'spectrast_fval_threshold': 0.5, 'matched_id_spec_no': 48279}, 'PXD000674': {'conf_sc_threshold': 0.10000000149011612, 'cluster_ratio_threshold': 0.5, 'prepsm_not_matched_no': 3287, 'prepsm_high_conf_no': 2413, 'cluster_size_threshold': 10, 'project_id': 'PXD000674', 'prepsm_low_conf_no': 72, 'new_psm_no': 57, 'prepsm_no': 5986, 'matched_spec_no': 2786, 'better_psm_no': 72, 'spectrast_fval_threshold': 0.5, 'matched_id_spec_no': 2699}, 'PXD000070': {'conf_sc_threshold': 0.10000000149011612, 'cluster_ratio_threshold': 0.5, 'prepsm_not_matched_no': 26769, 'prepsm_high_conf_no': 28300, 'cluster_size_threshold': 10, 'project_id': 'PXD000070', 'prepsm_low_conf_no': 300, 'new_psm_no': 18480, 'prepsm_no': 55436, 'matched_spec_no': 47462, 'better_psm_no': 300, 'spectrast_fval_threshold': 0.5, 'matched_id_spec_no': 28667}, 'PXD003709': {'conf_sc_threshold': 0.10000000149011612, 'cluster_ratio_threshold': 0.5, 'prepsm_not_matched_no': 499, 'prepsm_high_conf_no': 1279, 'cluster_size_threshold': 10, 'project_id': 'PXD003709', 'prepsm_low_conf_no': 5, 'new_psm_no': 1968, 'prepsm_no': 1790, 'matched_spec_no': 3394, 'better_psm_no': 5, 'spectrast_fval_threshold': 0.5, 'matched_id_spec_no': 1291}, 'PXD001201': {'conf_sc_threshold': 0.10000000149011612, 'cluster_ratio_threshold': 0.5, 'prepsm_not_matched_no': 4796, 'prepsm_high_conf_no': 46, 'cluster_size_threshold': 10, 'project_id': 'PXD001201', 'prepsm_low_conf_no': 0, 'new_psm_no': 49, 'prepsm_no': 4850, 'matched_spec_no': 251, 'better_psm_no': 0, 'spectrast_fval_threshold': 0.5, 'matched_id_spec_no': 54}, 'PXD000558': {'conf_sc_threshold': 0.10000000149011612, 'cluster_ratio_threshold': 0.5, 'prepsm_not_matched_no': 50367, 'prepsm_high_conf_no': 10002, 'cluster_size_threshold': 10, 'project_id': 'PXD000558', 'prepsm_low_conf_no': 113, 'new_psm_no': 10, 'prepsm_no': 60654, 'matched_spec_no': 10297, 'better_psm_no': 113, 'spectrast_fval_threshold': 0.5, 'matched_id_spec_no': 10287}, 'PXD001898': {'conf_sc_threshold': 0.10000000149011612, 'cluster_ratio_threshold': 0.5, 'prepsm_not_matched_no': 11232, 'prepsm_high_conf_no': 113, 'cluster_size_threshold': 10, 'project_id': 'PXD001898', 'prepsm_low_conf_no': 0, 'new_psm_no': 163, 'prepsm_no': 11368, 'matched_spec_no': 324, 'better_psm_no': 0, 'spectrast_fval_threshold': 0.5, 'matched_id_spec_no': 136}, 'PXD000095': {'conf_sc_threshold': 0.10000000149011612, 'cluster_ratio_threshold': 0.5, 'prepsm_not_matched_no': 495, 'prepsm_high_conf_no': 875, 'cluster_size_threshold': 10, 'project_id': 'PXD000095', 'prepsm_low_conf_no': 35, 'new_psm_no': 1158, 'prepsm_no': 1410, 'matched_spec_no': 2221, 'better_psm_no': 35, 'spectrast_fval_threshold': 0.5, 'matched_id_spec_no': 915}, 'PXD000314': {'conf_sc_threshold': 0.10000000149011612, 'cluster_ratio_threshold': 0.5, 'prepsm_not_matched_no': 36067, 'prepsm_high_conf_no': 38023, 'cluster_size_threshold': 10, 'project_id': 'PXD000314', 'prepsm_low_conf_no': 117, 'new_psm_no': 31817, 'prepsm_no': 74365, 'matched_spec_no': 70442, 'better_psm_no': 117, 'spectrast_fval_threshold': 0.5, 'matched_id_spec_no': 38298}, 'PXD000176': {'conf_sc_threshold': 0.10000000149011612, 'cluster_ratio_threshold': 0.5, 'prepsm_not_matched_no': 6988, 'prepsm_high_conf_no': 5103, 'cluster_size_threshold': 10, 'project_id': 'PXD000176', 'prepsm_low_conf_no': 99, 'new_psm_no': 18206, 'prepsm_no': 12285, 'matched_spec_no': 30713, 'better_psm_no': 99, 'spectrast_fval_threshold': 0.5, 'matched_id_spec_no': 5297}, 'PXD000440': {'conf_sc_threshold': 0.10000000149011612, 'cluster_ratio_threshold': 0.5, 'prepsm_not_matched_no': 323, 'prepsm_high_conf_no': 24, 'cluster_size_threshold': 10, 'project_id': 'PXD000440', 'prepsm_low_conf_no': 0, 'new_psm_no': 37, 'prepsm_no': 347, 'matched_spec_no': 111, 'better_psm_no': 0, 'spectrast_fval_threshold': 0.5, 'matched_id_spec_no': 24}, 'PXD000025': {'conf_sc_threshold': 0.10000000149011612, 'cluster_ratio_threshold': 0.5, 'prepsm_not_matched_no': 2795, 'prepsm_high_conf_no': 2021, 'cluster_size_threshold': 10, 'project_id': 'PXD000025', 'prepsm_low_conf_no': 15, 'new_psm_no': 1383, 'prepsm_no': 4853, 'matched_spec_no': 3635, 'better_psm_no': 15, 'spectrast_fval_threshold': 0.5, 'matched_id_spec_no': 2058}, 'PXD000899': {'conf_sc_threshold': 0.10000000149011612, 'cluster_ratio_threshold': 0.5, 'prepsm_not_matched_no': 28435, 'prepsm_high_conf_no': 5436, 'cluster_size_threshold': 10, 'project_id': 'PXD000899', 'prepsm_low_conf_no': 138, 'new_psm_no': 3518, 'prepsm_no': 34160, 'matched_spec_no': 10626, 'better_psm_no': 138, 'spectrast_fval_threshold': 0.5, 'matched_id_spec_no': 5725}, 'PXD003657': {'conf_sc_threshold': 0.10000000149011612, 'cluster_ratio_threshold': 0.5, 'prepsm_not_matched_no': 71279, 'prepsm_high_conf_no': 3728, 'cluster_size_threshold': 10, 'project_id': 'PXD003657', 'prepsm_low_conf_no': 0, 'new_psm_no': 7903, 'prepsm_no': 75090, 'matched_spec_no': 12318, 'better_psm_no': 0, 'spectrast_fval_threshold': 0.5, 'matched_id_spec_no': 3811}, 'PXD001252': {'conf_sc_threshold': 0.10000000149011612, 'cluster_ratio_threshold': 0.5, 'prepsm_not_matched_no': 1009001, 'prepsm_high_conf_no': 223443, 'cluster_size_threshold': 10, 'project_id': 'PXD001252', 'prepsm_low_conf_no': 1743, 'new_psm_no': 0, 'prepsm_no': 1248515, 'matched_spec_no': 239514, 'better_psm_no': 1743, 'spectrast_fval_threshold': 0.5, 'matched_id_spec_no': 239514}, 'PXD001168': {'conf_sc_threshold': 0.10000000149011612, 'cluster_ratio_threshold': 0.5, 'prepsm_not_matched_no': 1424, 'prepsm_high_conf_no': 62, 'cluster_size_threshold': 10, 'project_id': 'PXD001168', 'prepsm_low_conf_no': 0, 'new_psm_no': 9, 'prepsm_no': 1488, 'matched_spec_no': 74, 'better_psm_no': 0, 'spectrast_fval_threshold': 0.5, 'matched_id_spec_no': 64}, 'PXD000027': {'conf_sc_threshold': 0.10000000149011612, 'cluster_ratio_threshold': 0.5, 'prepsm_not_matched_no': 934, 'prepsm_high_conf_no': 227, 'cluster_size_threshold': 10, 'project_id': 'PXD000027', 'prepsm_low_conf_no': 57, 'new_psm_no': 0, 'prepsm_no': 1242, 'matched_spec_no': 308, 'better_psm_no': 57, 'spectrast_fval_threshold': 0.5, 'matched_id_spec_no': 308}, 'PXD000021': {'conf_sc_threshold': 0.10000000149011612, 'cluster_ratio_threshold': 0.5, 'prepsm_not_matched_no': 23640, 'prepsm_high_conf_no': 13348, 'cluster_size_threshold': 10, 'project_id': 'PXD000021', 'prepsm_low_conf_no': 961, 'new_psm_no': 4859, 'prepsm_no': 42972, 'matched_spec_no': 33478, 'better_psm_no': 961, 'spectrast_fval_threshold': 0.5, 'matched_id_spec_no': 19332}, 'PXD001826': {'conf_sc_threshold': 0.10000000149011612, 'cluster_ratio_threshold': 0.5, 'prepsm_not_matched_no': 46780, 'prepsm_high_conf_no': 248, 'cluster_size_threshold': 10, 'project_id': 'PXD001826', 'prepsm_low_conf_no': 0, 'new_psm_no': 121, 'prepsm_no': 47247, 'matched_spec_no': 645, 'better_psm_no': 0, 'spectrast_fval_threshold': 0.5, 'matched_id_spec_no': 467}, 'PXD000975': {'conf_sc_threshold': 0.10000000149011612, 'cluster_ratio_threshold': 0.5, 'prepsm_not_matched_no': 74796, 'prepsm_high_conf_no': 21488, 'cluster_size_threshold': 10, 'project_id': 'PXD000975', 'prepsm_low_conf_no': 176, 'new_psm_no': 2946, 'prepsm_no': 96849, 'matched_spec_no': 25521, 'better_psm_no': 176, 'spectrast_fval_threshold': 0.5, 'matched_id_spec_no': 22053}, 'PXD002436': {'conf_sc_threshold': 0.10000000149011612, 'cluster_ratio_threshold': 0.5, 'prepsm_not_matched_no': 27, 'prepsm_high_conf_no': 2, 'cluster_size_threshold': 10, 'project_id': 'PXD002436', 'prepsm_low_conf_no': 0, 'new_psm_no': 7, 'prepsm_no': 29, 'matched_spec_no': 65, 'better_psm_no': 0, 'spectrast_fval_threshold': 0.5, 'matched_id_spec_no': 2}, 'PXD003335': {'conf_sc_threshold': 0.10000000149011612, 'cluster_ratio_threshold': 0.5, 'prepsm_not_matched_no': 2040, 'prepsm_high_conf_no': 7, 'cluster_size_threshold': 10, 'project_id': 'PXD003335', 'prepsm_low_conf_no': 5, 'new_psm_no': 247, 'prepsm_no': 2053, 'matched_spec_no': 371, 'better_psm_no': 5, 'spectrast_fval_threshold': 0.5, 'matched_id_spec_no': 13}, 'PXD000533': {'conf_sc_threshold': 0.10000000149011612, 'cluster_ratio_threshold': 0.5, 'prepsm_not_matched_no': 203483, 'prepsm_high_conf_no': 220409, 'cluster_size_threshold': 10, 'project_id': 'PXD000533', 'prepsm_low_conf_no': 2442, 'new_psm_no': 83714, 'prepsm_no': 432892, 'matched_spec_no': 322190, 'better_psm_no': 2442, 'spectrast_fval_threshold': 0.5, 'matched_id_spec_no': 229409}, 'PXD000722': {'conf_sc_threshold': 0.10000000149011612, 'cluster_ratio_threshold': 0.5, 'prepsm_not_matched_no': 3668, 'prepsm_high_conf_no': 1092, 'cluster_size_threshold': 10, 'project_id': 'PXD000722', 'prepsm_low_conf_no': 9, 'new_psm_no': 783, 'prepsm_no': 4786, 'matched_spec_no': 2468, 'better_psm_no': 9, 'spectrast_fval_threshold': 0.5, 'matched_id_spec_no': 1118}, 'PXD000701': {'conf_sc_threshold': 0.10000000149011612, 'cluster_ratio_threshold': 0.5, 'prepsm_not_matched_no': 4361, 'prepsm_high_conf_no': 105, 'cluster_size_threshold': 10, 'project_id': 'PXD000701', 'prepsm_low_conf_no': 0, 'new_psm_no': 107, 'prepsm_no': 4466, 'matched_spec_no': 242, 'better_psm_no': 0, 'spectrast_fval_threshold': 0.5, 'matched_id_spec_no': 105}, 'PXD000472': {'conf_sc_threshold': 0.10000000149011612, 'cluster_ratio_threshold': 0.5, 'prepsm_not_matched_no': 9831, 'prepsm_high_conf_no': 8325, 'cluster_size_threshold': 10, 'project_id': 'PXD000472', 'prepsm_low_conf_no': 75, 'new_psm_no': 2149, 'prepsm_no': 18277, 'matched_spec_no': 11058, 'better_psm_no': 75, 'spectrast_fval_threshold': 0.5, 'matched_id_spec_no': 8446}, 'PXD000857': {'conf_sc_threshold': 0.10000000149011612, 'cluster_ratio_threshold': 0.5, 'prepsm_not_matched_no': 161, 'prepsm_high_conf_no': 18, 'cluster_size_threshold': 10, 'project_id': 'PXD000857', 'prepsm_low_conf_no': 0, 'new_psm_no': 143, 'prepsm_no': 185, 'matched_spec_no': 198, 'better_psm_no': 0, 'spectrast_fval_threshold': 0.5, 'matched_id_spec_no': 24}, 'PXD001118': {'conf_sc_threshold': 0.10000000149011612, 'cluster_ratio_threshold': 0.5, 'prepsm_not_matched_no': 9136, 'prepsm_high_conf_no': 22226, 'cluster_size_threshold': 10, 'project_id': 'PXD001118', 'prepsm_low_conf_no': 353, 'new_psm_no': 33442, 'prepsm_no': 31816, 'matched_spec_no': 57583, 'better_psm_no': 353, 'spectrast_fval_threshold': 0.5, 'matched_id_spec_no': 22680}, 'PXD000363': {'conf_sc_threshold': 0.10000000149011612, 'cluster_ratio_threshold': 0.5, 'prepsm_not_matched_no': 6470, 'prepsm_high_conf_no': 3959, 'cluster_size_threshold': 10, 'project_id': 'PXD000363', 'prepsm_low_conf_no': 168, 'new_psm_no': 11536, 'prepsm_no': 10635, 'matched_spec_no': 16682, 'better_psm_no': 168, 'spectrast_fval_threshold': 0.5, 'matched_id_spec_no': 4165}, 'PXD000185': {'conf_sc_threshold': 0.10000000149011612, 'cluster_ratio_threshold': 0.5, 'prepsm_not_matched_no': 39798, 'prepsm_high_conf_no': 53851, 'cluster_size_threshold': 10, 'project_id': 'PXD000185', 'prepsm_low_conf_no': 225, 'new_psm_no': 37572, 'prepsm_no': 94013, 'matched_spec_no': 92631, 'better_psm_no': 225, 'spectrast_fval_threshold': 0.5, 'matched_id_spec_no': 54215}, 'PXD000762': {'conf_sc_threshold': 0.10000000149011612, 'cluster_ratio_threshold': 0.5, 'prepsm_not_matched_no': 15880, 'prepsm_high_conf_no': 2561, 'cluster_size_threshold': 10, 'project_id': 'PXD000762', 'prepsm_low_conf_no': 37, 'new_psm_no': 2542, 'prepsm_no': 18509, 'matched_spec_no': 5377, 'better_psm_no': 37, 'spectrast_fval_threshold': 0.5, 'matched_id_spec_no': 2629}, 'PXD000729': {'conf_sc_threshold': 0.10000000149011612, 'cluster_ratio_threshold': 0.5, 'prepsm_not_matched_no': 40763, 'prepsm_high_conf_no': 19326, 'cluster_size_threshold': 10, 'project_id': 'PXD000729', 'prepsm_low_conf_no': 527, 'new_psm_no': 6024, 'prepsm_no': 62818, 'matched_spec_no': 34387, 'better_psm_no': 527, 'spectrast_fval_threshold': 0.5, 'matched_id_spec_no': 22055}, 'PXD000384': {'conf_sc_threshold': 0.10000000149011612, 'cluster_ratio_threshold': 0.5, 'prepsm_not_matched_no': 243, 'prepsm_high_conf_no': 19, 'cluster_size_threshold': 10, 'project_id': 'PXD000384', 'prepsm_low_conf_no': 0, 'new_psm_no': 42, 'prepsm_no': 272, 'matched_spec_no': 165, 'better_psm_no': 0, 'spectrast_fval_threshold': 0.5, 'matched_id_spec_no': 29}, 'PXD000129': {'conf_sc_threshold': 0.10000000149011612, 'cluster_ratio_threshold': 0.5, 'prepsm_not_matched_no': 19147, 'prepsm_high_conf_no': 54852, 'cluster_size_threshold': 10, 'project_id': 'PXD000129', 'prepsm_low_conf_no': 4279, 'new_psm_no': 30132, 'prepsm_no': 79840, 'matched_spec_no': 97442, 'better_psm_no': 4279, 'spectrast_fval_threshold': 0.5, 'matched_id_spec_no': 60693}, 'PXD000312': {'conf_sc_threshold': 0.10000000149011612, 'cluster_ratio_threshold': 0.5, 'prepsm_not_matched_no': 17593, 'prepsm_high_conf_no': 22148, 'cluster_size_threshold': 10, 'project_id': 'PXD000312', 'prepsm_low_conf_no': 110, 'new_psm_no': 0, 'prepsm_no': 40139, 'matched_spec_no': 22546, 'better_psm_no': 110, 'spectrast_fval_threshold': 0.5, 'matched_id_spec_no': 22546}, 'PXD003215': {'conf_sc_threshold': 0.10000000149011612, 'cluster_ratio_threshold': 0.5, 'prepsm_not_matched_no': 26393, 'prepsm_high_conf_no': 11938, 'cluster_size_threshold': 10, 'project_id': 'PXD003215', 'prepsm_low_conf_no': 365, 'new_psm_no': 3, 'prepsm_no': 40622, 'matched_spec_no': 14232, 'better_psm_no': 365, 'spectrast_fval_threshold': 0.5, 'matched_id_spec_no': 14229}, 'PXD000560': {'conf_sc_threshold': 0.10000000149011612, 'cluster_ratio_threshold': 0.5, 'prepsm_not_matched_no': 58736, 'prepsm_high_conf_no': 21880, 'cluster_size_threshold': 10, 'project_id': 'PXD000560', 'prepsm_low_conf_no': 354, 'new_psm_no': 1, 'prepsm_no': 82160, 'matched_spec_no': 23426, 'better_psm_no': 354, 'spectrast_fval_threshold': 0.5, 'matched_id_spec_no': 23424}, 'PXD000464': {'conf_sc_threshold': 0.10000000149011612, 'cluster_ratio_threshold': 0.5, 'prepsm_not_matched_no': 25565, 'prepsm_high_conf_no': 816, 'cluster_size_threshold': 10, 'project_id': 'PXD000464', 'prepsm_low_conf_no': 261, 'new_psm_no': 0, 'prepsm_no': 27444, 'matched_spec_no': 1879, 'better_psm_no': 261, 'spectrast_fval_threshold': 0.5, 'matched_id_spec_no': 1879}, 'PXD000688': {'conf_sc_threshold': 0.10000000149011612, 'cluster_ratio_threshold': 0.5, 'prepsm_not_matched_no': 2417, 'prepsm_high_conf_no': 673, 'cluster_size_threshold': 10, 'project_id': 'PXD000688', 'prepsm_low_conf_no': 0, 'new_psm_no': 817, 'prepsm_no': 3092, 'matched_spec_no': 1526, 'better_psm_no': 0, 'spectrast_fval_threshold': 0.5, 'matched_id_spec_no': 675}, 'PXD000817': {'conf_sc_threshold': 0.10000000149011612, 'cluster_ratio_threshold': 0.5, 'prepsm_not_matched_no': 23963, 'prepsm_high_conf_no': 381, 'cluster_size_threshold': 10, 'project_id': 'PXD000817', 'prepsm_low_conf_no': 19, 'new_psm_no': 761, 'prepsm_no': 24408, 'matched_spec_no': 1688, 'better_psm_no': 19, 'spectrast_fval_threshold': 0.5, 'matched_id_spec_no': 445}, 'PXD000948': {'conf_sc_threshold': 0.10000000149011612, 'cluster_ratio_threshold': 0.5, 'prepsm_not_matched_no': 73920, 'prepsm_high_conf_no': 12481, 'cluster_size_threshold': 10, 'project_id': 'PXD000948', 'prepsm_low_conf_no': 69, 'new_psm_no': 42449, 'prepsm_no': 107359, 'matched_spec_no': 56164, 'better_psm_no': 69, 'spectrast_fval_threshold': 0.5, 'matched_id_spec_no': 33439}}\n"
     ]
    }
   ],
   "source": [
    "host = \"localhost\"\n",
    "conn = get_conn(host)\n",
    "cursor = conn.cursor()\n",
    "\n",
    "\n",
    "psm_table = \"T_PROJECT_ANALYSIS_RECORD\"\n",
    "sql_str = \"SELECT * FROM \" + psm_table+ \" \"\n",
    "results = execute_sql(sql_str)\n",
    "\n",
    "project_infos = dict()\n",
    "for r in results:\n",
    "    project_info = dict()\n",
    "    project_id = r[0]\n",
    "    project_info = {\n",
    "        'project_id':r[0],\n",
    "        'cluster_size_threshold' : r[1],\n",
    "        'cluster_ratio_threshold' : r[2],\n",
    "        'conf_sc_threshold' : r[3],\n",
    "        'spectrast_fval_threshold' : r[4],\n",
    "        'prepsm_no' : r[5],\n",
    "        'prepsm_not_matched_no' : r[6],\n",
    "        'prepsm_high_conf_no' : r[7],\n",
    "        'prepsm_low_conf_no' : r[8],\n",
    "        'better_psm_no' : r[9],\n",
    "        'new_psm_no' : r[10],\n",
    "        'matched_spec_no' : r[11],\n",
    "        'matched_id_spec_no' : r[12]\n",
    "    }\n",
    "    project_infos[project_id] = project_info\n",
    "\n",
    "print(project_infos)"
   ]
  },
  {
   "cell_type": "code",
   "execution_count": 142,
   "metadata": {},
   "outputs": [
    {
     "data": {
      "image/png": "[encoded data removed]",
      "text/plain": [
       "<matplotlib.figure.Figure at 0x7f9e89e6cfd0>"
      ]
     },
     "metadata": {},
     "output_type": "display_data"
    }
   ],
   "source": [
    "#matched identified spectrum  in previous psm\n",
    "projects = list()\n",
    "rates1 = list()\n",
    "for project_id in project_infos.keys():\n",
    "    project_info = project_infos.get(project_id)\n",
    "    rate = 100 * project_info.get('matched_id_spec_no')/project_info.get('prepsm_no')\n",
    "    projects.append(str(project_id))\n",
    "    rates1.append(rate)\n",
    "    \n",
    "from matplotlib import pyplot as plt\n",
    "import numpy as np\n",
    "\n",
    "length = len(rates1)\n",
    "index = np.arange(length)\n",
    "\n",
    "rates1.sort()\n",
    "\n",
    "plt.bar(index, rates1, width = 0.8,facecolor = 'lightskyblue',edgecolor = 'white')\n",
    "plt.show()\n",
    "\n",
    "\n",
    "#matched identified spectrum  in previous psm (percentage)"
   ]
  },
  {
   "cell_type": "code",
   "execution_count": 143,
   "metadata": {},
   "outputs": [
    {
     "data": {
      "image/png": "[encoded data removed]",
      "text/plain": [
       "<matplotlib.figure.Figure at 0x7f9e8a011908>"
      ]
     },
     "metadata": {},
     "output_type": "display_data"
    }
   ],
   "source": [
    "#new identified spectrum  in previous psm (percentage)\n",
    "X = list()\n",
    "Y = list()\n",
    "for project_id in project_infos.keys():\n",
    "    project_info = project_infos.get(project_id)\n",
    "    rate = 100 * project_info.get('new_psm_no')/project_info.get('prepsm_no')\n",
    "    X.append(str(project_id))\n",
    "    Y.append(rate)\n",
    "    \n",
    "length = len(Y)\n",
    "index = np.arange(length)\n",
    "\n",
    "Y.sort()\n",
    "\n",
    "plt.bar(index, Y,width = 0.8,facecolor = 'lightskyblue',edgecolor = 'white')\n",
    "plt.show()\n"
   ]
  },
  {
   "cell_type": "code",
   "execution_count": 162,
   "metadata": {
    "code_folding": []
   },
   "outputs": [
    {
     "name": "stdout",
     "output_type": "stream",
     "text": [
      "project PXD003709 has more 100% new identified psm than pre identified psm, 1968/1790 = 109.944134\n",
      "project PXD000176 has more 100% new identified psm than pre identified psm, 18206/12285 = 148.196988\n",
      "project PXD001118 has more 100% new identified psm than pre identified psm, 33442/31816 = 105.110636\n",
      "project PXD000363 has more 100% new identified psm than pre identified psm, 11536/10635 = 108.472026\n"
     ]
    },
    {
     "data": {
      "image/png": "[encoded data removed]",
      "text/plain": [
       "<matplotlib.figure.Figure at 0x7f9e894ea160>"
      ]
     },
     "metadata": {},
     "output_type": "display_data"
    }
   ],
   "source": [
    "#new identified spectrum  than previous psm\n",
    "projects = list()\n",
    "rates1 = list()\n",
    "rates2 = list()\n",
    "for project_id in project_infos.keys():\n",
    "    project_info = project_infos.get(project_id)\n",
    "    rate1 = 100 * project_info.get('matched_id_spec_no')/project_info.get('prepsm_no')\n",
    "    rate2 = 100 * project_info.get('new_psm_no')/project_info.get('prepsm_no')\n",
    "    projects.append(str(project_id))\n",
    "    rates1.append(rate1)\n",
    "    rates2.append(rate2)\n",
    "    \n",
    "    if rate2 >= 100:\n",
    "        print(\"project %s has more 100%% new identified psm than pre identified psm, %d/%d = %f\"%\n",
    "              (project_id, project_info.get('new_psm_no'),project_info.get('prepsm_no'), rate2))\n",
    "    \n",
    "from matplotlib import pyplot as plt\n",
    "import numpy as np\n",
    "\n",
    "fig, ax = plt.subplots()\n",
    "bar_width = 0.35\n",
    "opacity = 0.4\n",
    "error_config = {'ecolor': '0.3'}\n",
    "\n",
    "\n",
    "length = len(rates1)\n",
    "index = np.arange(length)\n",
    "\n",
    "rects1 = ax.bar(index, rates1, bar_width,\n",
    "                alpha=opacity, color='b',\n",
    "                error_kw=error_config,\n",
    "                label='matched_pre_id_psm')\n",
    "\n",
    "rects2 = ax.bar(index + bar_width, rates2, bar_width,\n",
    "                alpha=opacity, color='r',\n",
    "                error_kw=error_config,\n",
    "                label='mew_id_psm')\n",
    "\n",
    "\n",
    "fig.tight_layout()\n",
    "plt.show()\n",
    "\n",
    "#plt.bar(index, rates1, width = 0.8,facecolor = 'blue',edgecolor = 'white')\n",
    "#plt.bar(index, rates2, width = 0.5,facecolor = 'red',edgecolor = 'white')\n",
    "#plt.show()\n",
    "\n",
    "#new identified spectrum  than previous psm (percentage)"
   ]
  },
  {
   "cell_type": "code",
   "execution_count": 168,
   "metadata": {
    "scrolled": true
   },
   "outputs": [
    {
     "data": {
      "image/png": "[encoded data removed]",
      "text/plain": [
       "<matplotlib.figure.Figure at 0x7f9e896d1c18>"
      ]
     },
     "metadata": {},
     "output_type": "display_data"
    }
   ],
   "source": [
    "#low score identified spectrum\n",
    "projects = []\n",
    "rates1 = []\n",
    "rates2 = []\n",
    "rates3 = []\n",
    "for project_id in project_infos.keys():\n",
    "    project_info = project_infos.get(project_id)\n",
    "    rate1 = 100 * project_info.get('prepsm_high_conf_no')/project_info.get('prepsm_no')\n",
    "    rate2 = 100 * project_info.get('prepsm_low_conf_no')/project_info.get('prepsm_no')\n",
    "    rate3 = 100 * project_info.get('matched_id_spec_no')/project_info.get('prepsm_no')\n",
    "    #print(\"%s: %s--%s\"%(project_id,rate1,rate2))\n",
    "    if rate3 < rate1 + rate2:\n",
    "        print(\"%s: %s < %s + %s\"%(project_id,rate3,rate1,rate2)) \n",
    "        print(\"%s: %s < %s + %s\"%(project_id,project_info.get('matched_id_spec_no'),project_info.get('prepsm_low_conf_no'),project_info.get('prepsm_high_conf_no')))\n",
    "    projects.append(str(project_id))\n",
    "    rates1.append(rate1)\n",
    "    rates2.append(rate2)\n",
    "    rates3.append(rate3)\n",
    "    \n",
    "from matplotlib import pyplot as plt\n",
    "import numpy as np\n",
    "\n",
    "fig, ax = plt.subplots()\n",
    "bar_width = 0.35\n",
    "opacity = 0.4\n",
    "error_config = {'ecolor': '0.3'}\n",
    "\n",
    "\n",
    "length = len(rates1)\n",
    "index = np.arange(length)\n",
    "\n",
    "rects1 = ax.bar(index, rates1, bar_width,\n",
    "                alpha=opacity, color='b',\n",
    "                error_kw=error_config,\n",
    "                label='prepsm_high_conf_no')\n",
    "\n",
    "rects2 = ax.bar(index, rates2, bar_width,\n",
    "                 bottom=rates1,\n",
    "                alpha=opacity, color='r',\n",
    "                error_kw=error_config,\n",
    "                label='prepsm_high_conf_no')\n",
    "\n",
    "rects3 = ax.bar(index + bar_width, rates3, bar_width,\n",
    "#                 bottom=rates2,\n",
    "                alpha=opacity, color='g',\n",
    "                error_kw=error_config,\n",
    "                label='prepsm_high_conf_no')\n",
    "\n",
    "fig.tight_layout()\n",
    "plt.show()\n",
    "\n",
    "#plt.bar(index, rates1, width = 0.8,facecolor = 'blue',edgecolor = 'white')\n",
    "#plt.bar(index, rates2, width = 0.5,facecolor = 'red',edgecolor = 'white')\n",
    "#plt.show()\n",
    "\n",
    "#new identified spectrum  than previous psm (percentage)"
   ]
  },
  {
   "cell_type": "code",
   "execution_count": 169,
   "metadata": {},
   "outputs": [
    {
     "name": "stdout",
     "output_type": "stream",
     "text": [
      "total pre psm no 6768723\n",
      "total new psm no 836828, 12.363159% relative to total pre psm\n",
      "total pre psm mathced no 2277313, 33.644648% relative to total pre psm\n",
      "total pre psm high_conf no 2117729, 31.286980% relative to total pre psm\n",
      "total pre psm low_conf no 33066, 0.488512% relative to total pre psm\n"
     ]
    }
   ],
   "source": [
    "#low many new identified, high_conf_score, low_conf_score psms in all projects? abs no and relative no.\n",
    "\"\"\"\n",
    "    project_info = {\n",
    "        'project_id':r[0],\n",
    "        'cluster_size_threshold' : r[1],\n",
    "        'cluster_ratio_threshold' : r[2],\n",
    "        'conf_sc_threshold' : r[3],\n",
    "        'spectrast_fval_threshold' : r[4],\n",
    "        'prepsm_no' : r[5],\n",
    "        'prepsm_not_matched_no' : r[6],\n",
    "        'prepsm_high_conf_no' : r[7],\n",
    "        'prepsm_low_conf_no' : r[8],\n",
    "        'better_psm_no' : r[9],\n",
    "        'new_psm_no' : r[10],\n",
    "        'matched_spec_no' : r[11],\n",
    "        'matched_id_spec_no' : r[12]\n",
    "    }\n",
    "\"\"\"\n",
    "\n",
    "\n",
    "total_prepsm_no = 0\n",
    "total_new_psm_no = 0\n",
    "total_prepsm_high_conf_no = 0\n",
    "total_prepsm_low_conf_no = 0\n",
    "total_matched_id_spec_no = 0\n",
    "\n",
    "\n",
    "for project_id in project_infos.keys():\n",
    "    project_info = project_infos.get(project_id)\n",
    "    #print(project_info.get('prepsm_no'))\n",
    "    total_prepsm_no += project_info.get('prepsm_no')\n",
    "    total_new_psm_no += project_info.get('new_psm_no')\n",
    "    total_prepsm_high_conf_no += project_info.get('prepsm_high_conf_no')\n",
    "    total_prepsm_low_conf_no += project_info.get('prepsm_low_conf_no')\n",
    "    total_matched_id_spec_no += project_info.get('matched_id_spec_no')\n",
    "print(\"total pre psm no %d\"%(total_prepsm_no))\n",
    "print(\"total new psm no %d, %f%% relative to total pre psm\"%(total_new_psm_no, 100*total_new_psm_no/total_prepsm_no))\n",
    "print(\"total pre psm mathced no %d, %f%% relative to total pre psm\"%(total_matched_id_spec_no, 100*total_matched_id_spec_no/total_prepsm_no))\n",
    "print(\"total pre psm high_conf no %d, %f%% relative to total pre psm\"%(total_prepsm_high_conf_no, 100*total_prepsm_high_conf_no/total_prepsm_no))\n",
    "print(\"total pre psm low_conf no %d, %f%% relative to total pre psm\"%(total_prepsm_low_conf_no, 100*total_prepsm_low_conf_no/total_prepsm_no))\n",
    "    "
   ]
  },
  {
   "cell_type": "code",
   "execution_count": null,
   "metadata": {
    "collapsed": true
   },
   "outputs": [],
   "source": []
  },
  {
   "cell_type": "code",
   "execution_count": null,
   "metadata": {
    "collapsed": true
   },
   "outputs": [],
   "source": []
  },
  {
   "cell_type": "code",
   "execution_count": null,
   "metadata": {
    "collapsed": true
   },
   "outputs": [],
   "source": []
  },
  {
   "cell_type": "code",
   "execution_count": null,
   "metadata": {
    "collapsed": true
   },
   "outputs": [],
   "source": []
  },
  {
   "cell_type": "code",
   "execution_count": null,
   "metadata": {
    "collapsed": true
   },
   "outputs": [],
   "source": []
  }
 ],
 "metadata": {
  "kernelspec": {
   "display_name": "Python 3",
   "language": "python",
   "name": "python3"
  },
  "language_info": {
   "codemirror_mode": {
    "name": "ipython",
    "version": 3
   },
   "file_extension": ".py",
   "mimetype": "text/x-python",
   "name": "python",
   "nbconvert_exporter": "python",
   "pygments_lexer": "ipython3",
   "version": "3.4.3"
  }
 },
 "nbformat": 4,
 "nbformat_minor": 2
}
